{
 "cells": [
  {
   "cell_type": "markdown",
   "metadata": {},
   "source": [
    "# Predicting ratings of Google Play Store apps"
   ]
  },
  {
   "attachments": {},
   "cell_type": "markdown",
   "metadata": {},
   "source": [
    "## Importing libraries"
   ]
  },
  {
   "attachments": {},
   "cell_type": "markdown",
   "metadata": {},
   "source": [
    "We will be using the following libraries:\n",
    "\n",
    "- numpy - for numerical computations\n",
    "- pandas - for data structures and data analysis\n",
    "- matplotlib - for plotting\n",
    "- tensorflow - for deep learning"
   ]
  },
  {
   "cell_type": "code",
   "execution_count": 25,
   "metadata": {},
   "outputs": [
    {
     "name": "stdout",
     "output_type": "stream",
     "text": [
      "2.10.0\n"
     ]
    }
   ],
   "source": [
    "import numpy as np\n",
    "import pandas as pd\n",
    "import matplotlib.pyplot as plt\n",
    "\n",
    "import tensorflow as tf\n",
    "\n",
    "from tensorflow import keras\n",
    "from tensorflow.keras import layers\n",
    "from tensorflow.keras import metrics\n",
    "\n",
    "print(tf.__version__)"
   ]
  },
  {
   "attachments": {},
   "cell_type": "markdown",
   "metadata": {},
   "source": [
    "## Getting training and testing data"
   ]
  },
  {
   "cell_type": "code",
   "execution_count": 26,
   "metadata": {},
   "outputs": [],
   "source": [
    "# Path to training and testing datasets\n",
    "PATH_X_TRAIN = 'data/googleplaystore_X_train_encoded.csv'\n",
    "PATH_Y_TRAIN = 'data/googleplaystore_y_train_encoded.csv'\n",
    "PATH_X_TEST = 'data/googleplaystore_X_test_encoded.csv'\n",
    "PATH_Y_TEST = 'data/googleplaystore_y_test_encoded.csv'"
   ]
  },
  {
   "cell_type": "code",
   "execution_count": 27,
   "metadata": {},
   "outputs": [],
   "source": [
    "# Load training and testing datasets\n",
    "X_train = pd.read_csv(PATH_X_TRAIN)\n",
    "y_train = pd.read_csv(PATH_Y_TRAIN)\n",
    "X_test = pd.read_csv(PATH_X_TEST)\n",
    "y_test = pd.read_csv(PATH_Y_TEST)"
   ]
  },
  {
   "cell_type": "markdown",
   "metadata": {},
   "source": [
    "## Regression using Deep Neural Network (DNN)"
   ]
  },
  {
   "attachments": {},
   "cell_type": "markdown",
   "metadata": {},
   "source": [
    "Feature selections: `Reviews`, `Size`, `Price`, `Category`, `Installs`, `Type`, `Content Rating`, `Primary Genre`, `Secondary Genre`\n",
    "\n",
    "Response variable: `Rating`\n",
    "\n",
    "Why DNN? The data is not linearly correlated, and we have a large number of features. DNN is a good choice for this problem.\n",
    "\n",
    "There is no particular features that offer a visible correlation with the response variable. Therefore, we will use all the features. In addition, DNN may 'discover' some hidden correlations between the features and the response variable, or create a new and impactful feature from several of the provided features. Such flexibility allow us to use all the features."
   ]
  },
  {
   "cell_type": "markdown",
   "metadata": {},
   "source": [
    "### Building the model"
   ]
  },
  {
   "cell_type": "code",
   "execution_count": 28,
   "metadata": {},
   "outputs": [],
   "source": [
    "def build_model():\n",
    "    model = keras.Sequential([\n",
    "        layers.Dense(128, activation='relu', input_shape=[len(X_train.keys())]),\n",
    "        layers.Dense(64, activation='relu'),\n",
    "        layers.Dense(64, activation='relu'),\n",
    "        layers.Dense(1)\n",
    "    ])\n",
    "\n",
    "    optimizer = tf.keras.optimizers.Adam(0.001)\n",
    "\n",
    "    model.compile(loss='mse',\n",
    "                optimizer=optimizer,\n",
    "                metrics=[\n",
    "                    metrics.MeanAbsoluteError(name='mae'),\n",
    "                    metrics.MeanSquaredError(name='mse')\n",
    "                ])\n",
    "    return model"
   ]
  },
  {
   "attachments": {},
   "cell_type": "markdown",
   "metadata": {},
   "source": [
    "Explanation of the model:\n",
    "- The model has 4 hidden layers, with 64, 64, 64, and 1 neurons respectively. The last layer has only 1 neuron, as we are trying to predict a single value (rating). We have tested the model with different number of neurons per layer, and different number of layers, and found that all configurations perform similarly. Therefore, we choose this configuration as a reporesentative one.\n",
    "- The activation function for the hidden layers is `relu`, and the activation function for the output layer is `linear`.\n",
    "- The loss function is `mean_squared_error` (also used in linear regression problem), and the optimizer is `adam` (The optimizer is an algorithm that helps the model converges, \"Adam\" is selected because it saves time and is generally efficient).\n",
    "\n",
    "We believe this configuration is a good and popular choice when it comes to regression problems."
   ]
  },
  {
   "cell_type": "code",
   "execution_count": 29,
   "metadata": {},
   "outputs": [
    {
     "name": "stdout",
     "output_type": "stream",
     "text": [
      "Model: \"sequential_3\"\n",
      "_________________________________________________________________\n",
      " Layer (type)                Output Shape              Param #   \n",
      "=================================================================\n",
      " dense_12 (Dense)            (None, 128)               12800     \n",
      "                                                                 \n",
      " dense_13 (Dense)            (None, 64)                8256      \n",
      "                                                                 \n",
      " dense_14 (Dense)            (None, 64)                4160      \n",
      "                                                                 \n",
      " dense_15 (Dense)            (None, 1)                 65        \n",
      "                                                                 \n",
      "=================================================================\n",
      "Total params: 25,281\n",
      "Trainable params: 25,281\n",
      "Non-trainable params: 0\n",
      "_________________________________________________________________\n"
     ]
    }
   ],
   "source": [
    "dnn_model = build_model()\n",
    "dnn_model.summary()"
   ]
  },
  {
   "cell_type": "markdown",
   "metadata": {},
   "source": [
    "### Training the model"
   ]
  },
  {
   "cell_type": "code",
   "execution_count": 30,
   "metadata": {},
   "outputs": [],
   "source": [
    "# Train the model\n",
    "EPOCHS = 100\n",
    "dnn_history = dnn_model.fit(\n",
    "    X_train, y_train,\n",
    "    epochs=EPOCHS, validation_split = 0.2, verbose=0\n",
    ")"
   ]
  },
  {
   "cell_type": "code",
   "execution_count": 31,
   "metadata": {},
   "outputs": [],
   "source": [
    "# Plot training and validation loss\n",
    "def plot_loss(history):\n",
    "    plt.figure()\n",
    "    plt.xlabel('Epoch')\n",
    "    plt.ylabel('Mean Squared Error [Rating]')\n",
    "    plt.plot(history.epoch, np.array(history.history['mse']),\n",
    "           label='Train Loss')\n",
    "    plt.plot(history.epoch, np.array(history.history['val_mse']),\n",
    "           label = 'Val loss')\n",
    "    plt.legend()\n",
    "    plt.ylim([0, 1])"
   ]
  },
  {
   "cell_type": "code",
   "execution_count": 32,
   "metadata": {},
   "outputs": [
    {
     "data": {
      "image/png": "[encoded data removed]",
      "text/plain": [
       "<Figure size 640x480 with 1 Axes>"
      ]
     },
     "metadata": {},
     "output_type": "display_data"
    }
   ],
   "source": [
    "plot_loss(dnn_history)"
   ]
  },
  {
   "attachments": {},
   "cell_type": "markdown",
   "metadata": {},
   "source": [
    "As the model trains, the loss function (MSE) is minimized. This means the model is getting better at predicting the ratings. Note that the loss function decreases very rapidly during the first few epochs, and then it slows down. Validation loss, on the other hands, does not decrease at all. This means the model converged quickly, and is not improving anymore. We have achieved the optimal performance of the model."
   ]
  },
  {
   "cell_type": "markdown",
   "metadata": {},
   "source": [
    "### Evaluating the model"
   ]
  },
  {
   "cell_type": "code",
   "execution_count": 33,
   "metadata": {},
   "outputs": [
    {
     "name": "stdout",
     "output_type": "stream",
     "text": [
      "Mean Absolute Error on test set: 0.4240374267101288\n",
      "Mean Squared Error on test set (used as loss function): 0.3146454095840454\n"
     ]
    }
   ],
   "source": [
    "# Apply model to test set\n",
    "test_results = dnn_model.evaluate(X_test, y_test, verbose=0)\n",
    "print('Mean Absolute Error on test set: {}'.format(test_results[1]))\n",
    "print('Mean Squared Error on test set (used as loss function): {}'.format(test_results[2]))"
   ]
  },
  {
   "attachments": {},
   "cell_type": "markdown",
   "metadata": {},
   "source": [
    "**Remark:** The model has a mean absolute error of 0.4, which is not bad. It means the model can predict the rating of an app (on the scale of 1 - 5) with an error of 0.4 stars. Practically, we think this error is acceptable, and results from this model can be considered reliable. Out of the models we tried, this is among the best ones (lowest errors), comparable to the random forest model and outperforming the XGBoost model."
   ]
  }
 ],
 "metadata": {
  "kernelspec": {
   "display_name": "SC1015",
   "language": "python",
   "name": "python3"
  },
  "language_info": {
   "codemirror_mode": {
    "name": "ipython",
    "version": 3
   },
   "file_extension": ".py",
   "mimetype": "text/x-python",
   "name": "python",
   "nbconvert_exporter": "python",
   "pygments_lexer": "ipython3",
   "version": "3.8.16"
  },
  "orig_nbformat": 4
 },
 "nbformat": 4,
 "nbformat_minor": 2
}
