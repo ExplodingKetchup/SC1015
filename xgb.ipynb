{
 "cells": [
  {
   "cell_type": "markdown",
   "metadata": {},
   "source": [
    "# Predicting ratings of Google Play Store apps"
   ]
  },
  {
   "cell_type": "markdown",
   "metadata": {},
   "source": [
    "## Importing libraries"
   ]
  },
  {
   "attachments": {},
   "cell_type": "markdown",
   "metadata": {},
   "source": [
    "We will be using the following libraries:\n",
    "\n",
    "- numpy - for numerical computations\n",
    "- pandas - for data structures and data analysis\n",
    "- matplotlib - for plotting\n",
    "- xgboost - for gradient boosting model\n",
    "- sklearn - for GridSearchCV, mean_squared_error, and mean_absolute_error and other utility functions\n",
    "- BorutaShap - for feature selection\n",
    "\n",
    "```python"
   ]
  },
  {
   "cell_type": "code",
   "execution_count": 18,
   "metadata": {},
   "outputs": [],
   "source": [
    "import numpy as np\n",
    "import pandas as pd\n",
    "import matplotlib.pyplot as plt\n",
    "import xgboost as xgb\n",
    "from sklearn.compose import make_column_selector as selector\n",
    "from sklearn.preprocessing import OrdinalEncoder\n",
    "from sklearn.compose import ColumnTransformer\n",
    "from sklearn.model_selection import GridSearchCV\n",
    "from sklearn.metrics import mean_squared_error, mean_absolute_error\n",
    "from BorutaShap import BorutaShap"
   ]
  },
  {
   "cell_type": "markdown",
   "metadata": {},
   "source": [
    "## Getting training and testing data"
   ]
  },
  {
   "cell_type": "code",
   "execution_count": 19,
   "metadata": {},
   "outputs": [],
   "source": [
    "# Path to training and testing datasets\n",
    "PATH_X_TRAIN = 'data/googleplaystore_X_train.csv'\n",
    "PATH_Y_TRAIN = 'data/googleplaystore_y_train.csv'\n",
    "PATH_X_TEST = 'data/googleplaystore_X_test.csv'\n",
    "PATH_Y_TEST = 'data/googleplaystore_y_test.csv'"
   ]
  },
  {
   "cell_type": "code",
   "execution_count": 20,
   "metadata": {},
   "outputs": [],
   "source": [
    "# Load training and testing datasets\n",
    "X_train = pd.read_csv(PATH_X_TRAIN)\n",
    "y_train = pd.read_csv(PATH_Y_TRAIN)\n",
    "X_test = pd.read_csv(PATH_X_TEST)\n",
    "y_test = pd.read_csv(PATH_Y_TEST)"
   ]
  },
  {
   "cell_type": "code",
   "execution_count": 21,
   "metadata": {},
   "outputs": [],
   "source": [
    "# Encode categorical features using ordinal encoding\n",
    "def ordinal_encoding(col):\n",
    "    \"\"\"Ordinal encoding for categorical features.\"\"\"\n",
    "    return OrdinalEncoder().fit_transform(col.values.reshape(-1, 1))"
   ]
  },
  {
   "cell_type": "code",
   "execution_count": 22,
   "metadata": {},
   "outputs": [],
   "source": [
    "X_train['Category'] = pd.DataFrame(ordinal_encoding(X_train['Category']))\n",
    "X_train['Type'] = pd.DataFrame(ordinal_encoding(X_train['Type']))\n",
    "X_train['Content Rating'] = pd.DataFrame(ordinal_encoding(X_train['Content Rating']))\n",
    "X_train['Primary Genre'] = pd.DataFrame(ordinal_encoding(X_train['Primary Genre']))\n",
    "X_train['Secondary Genre'] = pd.DataFrame(ordinal_encoding(X_train['Secondary Genre']))"
   ]
  },
  {
   "cell_type": "code",
   "execution_count": 23,
   "metadata": {},
   "outputs": [],
   "source": [
    "X_test['Category'] = pd.DataFrame(ordinal_encoding(X_test['Category']))\n",
    "X_test['Type'] = pd.DataFrame(ordinal_encoding(X_test['Type']))\n",
    "X_test['Content Rating'] = pd.DataFrame(ordinal_encoding(X_test['Content Rating']))\n",
    "X_test['Primary Genre'] = pd.DataFrame(ordinal_encoding(X_test['Primary Genre']))\n",
    "X_test['Secondary Genre'] = pd.DataFrame(ordinal_encoding(X_test['Secondary Genre']))"
   ]
  },
  {
   "cell_type": "code",
   "execution_count": 24,
   "metadata": {},
   "outputs": [
    {
     "data": {
      "text/html": [
       "<div>\n",
       "<style scoped>\n",
       "    .dataframe tbody tr th:only-of-type {\n",
       "        vertical-align: middle;\n",
       "    }\n",
       "\n",
       "    .dataframe tbody tr th {\n",
       "        vertical-align: top;\n",
       "    }\n",
       "\n",
       "    .dataframe thead th {\n",
       "        text-align: right;\n",
       "    }\n",
       "</style>\n",
       "<table border=\"1\" class=\"dataframe\">\n",
       "  <thead>\n",
       "    <tr style=\"text-align: right;\">\n",
       "      <th></th>\n",
       "      <th>Category</th>\n",
       "      <th>Reviews</th>\n",
       "      <th>Size</th>\n",
       "      <th>Installs</th>\n",
       "      <th>Type</th>\n",
       "      <th>Price</th>\n",
       "      <th>Content Rating</th>\n",
       "      <th>Primary Genre</th>\n",
       "      <th>Secondary Genre</th>\n",
       "    </tr>\n",
       "  </thead>\n",
       "  <tbody>\n",
       "    <tr>\n",
       "      <th>0</th>\n",
       "      <td>6.0</td>\n",
       "      <td>-0.157740</td>\n",
       "      <td>0.453740</td>\n",
       "      <td>10.0</td>\n",
       "      <td>0.0</td>\n",
       "      <td>-0.062993</td>\n",
       "      <td>1.0</td>\n",
       "      <td>13.0</td>\n",
       "      <td>NaN</td>\n",
       "    </tr>\n",
       "    <tr>\n",
       "      <th>1</th>\n",
       "      <td>11.0</td>\n",
       "      <td>-0.080897</td>\n",
       "      <td>-0.728124</td>\n",
       "      <td>14.0</td>\n",
       "      <td>0.0</td>\n",
       "      <td>-0.062993</td>\n",
       "      <td>1.0</td>\n",
       "      <td>17.0</td>\n",
       "      <td>4.0</td>\n",
       "    </tr>\n",
       "    <tr>\n",
       "      <th>2</th>\n",
       "      <td>8.0</td>\n",
       "      <td>-0.154967</td>\n",
       "      <td>-0.022469</td>\n",
       "      <td>12.0</td>\n",
       "      <td>0.0</td>\n",
       "      <td>-0.062993</td>\n",
       "      <td>3.0</td>\n",
       "      <td>15.0</td>\n",
       "      <td>NaN</td>\n",
       "    </tr>\n",
       "    <tr>\n",
       "      <th>3</th>\n",
       "      <td>26.0</td>\n",
       "      <td>-0.139815</td>\n",
       "      <td>-0.455386</td>\n",
       "      <td>12.0</td>\n",
       "      <td>0.0</td>\n",
       "      <td>-0.062993</td>\n",
       "      <td>1.0</td>\n",
       "      <td>37.0</td>\n",
       "      <td>NaN</td>\n",
       "    </tr>\n",
       "    <tr>\n",
       "      <th>4</th>\n",
       "      <td>29.0</td>\n",
       "      <td>-0.090800</td>\n",
       "      <td>-0.875315</td>\n",
       "      <td>14.0</td>\n",
       "      <td>0.0</td>\n",
       "      <td>-0.062993</td>\n",
       "      <td>1.0</td>\n",
       "      <td>42.0</td>\n",
       "      <td>NaN</td>\n",
       "    </tr>\n",
       "    <tr>\n",
       "      <th>...</th>\n",
       "      <td>...</td>\n",
       "      <td>...</td>\n",
       "      <td>...</td>\n",
       "      <td>...</td>\n",
       "      <td>...</td>\n",
       "      <td>...</td>\n",
       "      <td>...</td>\n",
       "      <td>...</td>\n",
       "      <td>...</td>\n",
       "    </tr>\n",
       "    <tr>\n",
       "      <th>5934</th>\n",
       "      <td>11.0</td>\n",
       "      <td>-0.155384</td>\n",
       "      <td>-0.109052</td>\n",
       "      <td>12.0</td>\n",
       "      <td>0.0</td>\n",
       "      <td>-0.062993</td>\n",
       "      <td>1.0</td>\n",
       "      <td>38.0</td>\n",
       "      <td>NaN</td>\n",
       "    </tr>\n",
       "    <tr>\n",
       "      <th>5935</th>\n",
       "      <td>4.0</td>\n",
       "      <td>-0.158760</td>\n",
       "      <td>-0.065761</td>\n",
       "      <td>6.0</td>\n",
       "      <td>0.0</td>\n",
       "      <td>-0.062993</td>\n",
       "      <td>4.0</td>\n",
       "      <td>8.0</td>\n",
       "      <td>NaN</td>\n",
       "    </tr>\n",
       "    <tr>\n",
       "      <th>5936</th>\n",
       "      <td>9.0</td>\n",
       "      <td>-0.152189</td>\n",
       "      <td>-0.801720</td>\n",
       "      <td>12.0</td>\n",
       "      <td>0.0</td>\n",
       "      <td>-0.062993</td>\n",
       "      <td>1.0</td>\n",
       "      <td>17.0</td>\n",
       "      <td>NaN</td>\n",
       "    </tr>\n",
       "    <tr>\n",
       "      <th>5937</th>\n",
       "      <td>14.0</td>\n",
       "      <td>1.143622</td>\n",
       "      <td>2.791491</td>\n",
       "      <td>14.0</td>\n",
       "      <td>0.0</td>\n",
       "      <td>-0.062993</td>\n",
       "      <td>4.0</td>\n",
       "      <td>0.0</td>\n",
       "      <td>NaN</td>\n",
       "    </tr>\n",
       "    <tr>\n",
       "      <th>5938</th>\n",
       "      <td>14.0</td>\n",
       "      <td>3.266003</td>\n",
       "      <td>3.354283</td>\n",
       "      <td>16.0</td>\n",
       "      <td>0.0</td>\n",
       "      <td>-0.062993</td>\n",
       "      <td>4.0</td>\n",
       "      <td>2.0</td>\n",
       "      <td>NaN</td>\n",
       "    </tr>\n",
       "  </tbody>\n",
       "</table>\n",
       "<p>5939 rows × 9 columns</p>\n",
       "</div>"
      ],
      "text/plain": [
       "      Category   Reviews      Size  Installs  Type     Price  Content Rating   \n",
       "0          6.0 -0.157740  0.453740      10.0   0.0 -0.062993             1.0  \\\n",
       "1         11.0 -0.080897 -0.728124      14.0   0.0 -0.062993             1.0   \n",
       "2          8.0 -0.154967 -0.022469      12.0   0.0 -0.062993             3.0   \n",
       "3         26.0 -0.139815 -0.455386      12.0   0.0 -0.062993             1.0   \n",
       "4         29.0 -0.090800 -0.875315      14.0   0.0 -0.062993             1.0   \n",
       "...        ...       ...       ...       ...   ...       ...             ...   \n",
       "5934      11.0 -0.155384 -0.109052      12.0   0.0 -0.062993             1.0   \n",
       "5935       4.0 -0.158760 -0.065761       6.0   0.0 -0.062993             4.0   \n",
       "5936       9.0 -0.152189 -0.801720      12.0   0.0 -0.062993             1.0   \n",
       "5937      14.0  1.143622  2.791491      14.0   0.0 -0.062993             4.0   \n",
       "5938      14.0  3.266003  3.354283      16.0   0.0 -0.062993             4.0   \n",
       "\n",
       "      Primary Genre  Secondary Genre  \n",
       "0              13.0              NaN  \n",
       "1              17.0              4.0  \n",
       "2              15.0              NaN  \n",
       "3              37.0              NaN  \n",
       "4              42.0              NaN  \n",
       "...             ...              ...  \n",
       "5934           38.0              NaN  \n",
       "5935            8.0              NaN  \n",
       "5936           17.0              NaN  \n",
       "5937            0.0              NaN  \n",
       "5938            2.0              NaN  \n",
       "\n",
       "[5939 rows x 9 columns]"
      ]
     },
     "execution_count": 24,
     "metadata": {},
     "output_type": "execute_result"
    }
   ],
   "source": [
    "X_train"
   ]
  },
  {
   "attachments": {},
   "cell_type": "markdown",
   "metadata": {},
   "source": [
    "## Feature selection"
   ]
  },
  {
   "attachments": {},
   "cell_type": "markdown",
   "metadata": {},
   "source": [
    "We will be using all features for a model, then we will train another model based on the most important features. The most important features are determined by a technique called 'Boruta-SHAP'. This is partly because we cannot identify any important features that correlates with `Rating` (see preprocessing_and_eda for more information). We will then compare the performance of the two models."
   ]
  },
  {
   "cell_type": "markdown",
   "metadata": {},
   "source": [
    "## Regression using XGBoost"
   ]
  },
  {
   "attachments": {},
   "cell_type": "markdown",
   "metadata": {},
   "source": [
    "Feature selections: `Reviews`, `Size`, `Price`, `Category`, `Installs`, `Type`, `Content Rating`, `Primary Genre`, `Secondary Genre`\n",
    "\n",
    "Response variable: `Rating`\n",
    "\n",
    "Why XGBoost?\n",
    "\n",
    "XGBoost is a form of Gradient Boosting, which is a machine learning technique for regression problems. It produces a prediction model by combining weak models, in this case the weak models are decision trees.\n",
    "\n",
    "XGBoost is fast and accurate, and it can work with large datasets. It can perform well in datasets with outliers . It is also well suited for non-linear problems. These characteristics make it a good choice for this dataset, which is large, has outliers, and is non-linear."
   ]
  },
  {
   "cell_type": "code",
   "execution_count": 25,
   "metadata": {},
   "outputs": [
    {
     "name": "stdout",
     "output_type": "stream",
     "text": [
      "Fitting 5 folds for each of 75 candidates, totalling 375 fits\n",
      "Optimal hyperparameters for XGBoost model:  {'learning_rate': 0.1, 'max_depth': 2, 'n_estimators': 300}\n"
     ]
    }
   ],
   "source": [
    "# Regression using XGBoost\n",
    "\n",
    "# Define XGBoost model\n",
    "xgb_model = xgb.XGBRegressor(eval_metric='rmse')\n",
    "\n",
    "# Cross-validation grid search for hyperparameter tuning for XGBoost model, \n",
    "# i.e. trying out different combinations of hyperparameters to find the best combination\n",
    "\n",
    "# Define grid search parameters\n",
    "param_grid = {\n",
    "    'max_depth': [2, 3, 4, 5, 6],\n",
    "    'learning_rate': [0.05, 0.1, 0.15],\n",
    "    'n_estimators': [100, 200, 300, 400, 500]\n",
    "}\n",
    "\n",
    "# Perform grid search\n",
    "grid_search = GridSearchCV(estimator=xgb_model, param_grid=param_grid, cv=5, n_jobs=-1, verbose=1).fit(X_train, y_train)\n",
    "\n",
    "print(\"Optimal hyperparameters for XGBoost model: \", grid_search.best_params_)"
   ]
  },
  {
   "attachments": {},
   "cell_type": "markdown",
   "metadata": {},
   "source": [
    "Cross-validation search for best parameters by trying out different combinations of parameters as specified in `param_grid`. The best parameters are then used to train the model."
   ]
  },
  {
   "cell_type": "code",
   "execution_count": 26,
   "metadata": {},
   "outputs": [],
   "source": [
    "# Build XGBoost model using optimal hyperparameters\n",
    "xgb_model = xgb.XGBRegressor(   max_depth=grid_search.best_params_['max_depth'],\n",
    "                                learning_rate=grid_search.best_params_['learning_rate'],\n",
    "                                n_estimators=grid_search.best_params_['n_estimators'],\n",
    "                                eval_metric='rmse').fit(X_train, y_train)"
   ]
  },
  {
   "attachments": {},
   "cell_type": "markdown",
   "metadata": {},
   "source": [
    "### Model evaluation"
   ]
  },
  {
   "cell_type": "code",
   "execution_count": 27,
   "metadata": {},
   "outputs": [
    {
     "name": "stdout",
     "output_type": "stream",
     "text": [
      "Mean Squared Error:  2.4236993463504195\n",
      "Mean Absolute Error:  1.2348376316173308\n"
     ]
    }
   ],
   "source": [
    "# Predict on test set\n",
    "\n",
    "xgb_pred = xgb_model.predict(X_test)\n",
    "mse = mean_squared_error(y_test, xgb_pred)\n",
    "mae = mean_absolute_error(y_test, xgb_pred)\n",
    "print(\"Mean Squared Error: \", mse)\n",
    "print(\"Mean Absolute Error: \", mae)"
   ]
  },
  {
   "attachments": {},
   "cell_type": "markdown",
   "metadata": {},
   "source": [
    "**Remarks:** The mean squared error (which is the main metric used throughout the project) of XGBoost is 2.42, which is significantly higher than results produced by DNN network and Random Forest model. MAE = 1.23, which can be intuited as the average difference between the predicted and actual ratings. This result is not very effective when predicting value on the scale of 1 - 5. It is therefore not recommended to use XGBoost for this task."
   ]
  },
  {
   "attachments": {},
   "cell_type": "markdown",
   "metadata": {},
   "source": [
    "## XGBoost with feature selection"
   ]
  },
  {
   "attachments": {},
   "cell_type": "markdown",
   "metadata": {},
   "source": [
    "We will first try to select important features using Boruta-SHAP based on the previous model. Then we will train another model using the selected features. This way we may find features that are important to the gradient boosting model, assuming that the model hyperparameters are optimal.\n",
    "\n",
    "**Note:** `BorutaShap` library requires an older version of `scikit-learn` (< 1.2). Using the latest version of `scikit-learn` will result in an error."
   ]
  },
  {
   "cell_type": "code",
   "execution_count": 28,
   "metadata": {},
   "outputs": [
    {
     "name": "stdout",
     "output_type": "stream",
     "text": [
      "Warning there are missing values in your data !\n"
     ]
    },
    {
     "name": "stderr",
     "output_type": "stream",
     "text": [
      "100%|██████████| 100/100 [01:05<00:00,  1.53it/s]"
     ]
    },
    {
     "name": "stdout",
     "output_type": "stream",
     "text": [
      "5 attributes confirmed important: ['Category', 'Size', 'Reviews', 'Primary Genre', 'Installs']\n",
      "4 attributes confirmed unimportant: ['Type', 'Content Rating', 'Price', 'Secondary Genre']\n",
      "0 tentative attributes remains: []\n"
     ]
    },
    {
     "name": "stderr",
     "output_type": "stream",
     "text": [
      "\n"
     ]
    }
   ],
   "source": [
    "# Initialize a BorutaShap object\n",
    "# classification = False because we are solving a regression problem\n",
    "\n",
    "Feature_selection = BorutaShap(importance_measure='shap', classification=False, model=xgb_model)\n",
    "\n",
    "Feature_selection.fit(X=X_train, y=y_train['Rating'], random_state=0, n_trials=100)"
   ]
  },
  {
   "cell_type": "code",
   "execution_count": 29,
   "metadata": {},
   "outputs": [
    {
     "data": {
      "image/png": "[encoded data removed]",
      "text/plain": [
       "<Figure size 1600x1200 with 1 Axes>"
      ]
     },
     "metadata": {},
     "output_type": "display_data"
    }
   ],
   "source": [
    "Feature_selection.plot(which_features='all', figsize=(16,12))"
   ]
  },
  {
   "cell_type": "code",
   "execution_count": 30,
   "metadata": {},
   "outputs": [
    {
     "data": {
      "text/html": [
       "<div>\n",
       "<style scoped>\n",
       "    .dataframe tbody tr th:only-of-type {\n",
       "        vertical-align: middle;\n",
       "    }\n",
       "\n",
       "    .dataframe tbody tr th {\n",
       "        vertical-align: top;\n",
       "    }\n",
       "\n",
       "    .dataframe thead th {\n",
       "        text-align: right;\n",
       "    }\n",
       "</style>\n",
       "<table border=\"1\" class=\"dataframe\">\n",
       "  <thead>\n",
       "    <tr style=\"text-align: right;\">\n",
       "      <th></th>\n",
       "      <th>Category</th>\n",
       "      <th>Size</th>\n",
       "      <th>Reviews</th>\n",
       "      <th>Primary Genre</th>\n",
       "      <th>Installs</th>\n",
       "    </tr>\n",
       "  </thead>\n",
       "  <tbody>\n",
       "    <tr>\n",
       "      <th>0</th>\n",
       "      <td>6.0</td>\n",
       "      <td>0.453740</td>\n",
       "      <td>-0.157740</td>\n",
       "      <td>13.0</td>\n",
       "      <td>10.0</td>\n",
       "    </tr>\n",
       "    <tr>\n",
       "      <th>1</th>\n",
       "      <td>11.0</td>\n",
       "      <td>-0.728124</td>\n",
       "      <td>-0.080897</td>\n",
       "      <td>17.0</td>\n",
       "      <td>14.0</td>\n",
       "    </tr>\n",
       "    <tr>\n",
       "      <th>2</th>\n",
       "      <td>8.0</td>\n",
       "      <td>-0.022469</td>\n",
       "      <td>-0.154967</td>\n",
       "      <td>15.0</td>\n",
       "      <td>12.0</td>\n",
       "    </tr>\n",
       "    <tr>\n",
       "      <th>3</th>\n",
       "      <td>26.0</td>\n",
       "      <td>-0.455386</td>\n",
       "      <td>-0.139815</td>\n",
       "      <td>37.0</td>\n",
       "      <td>12.0</td>\n",
       "    </tr>\n",
       "    <tr>\n",
       "      <th>4</th>\n",
       "      <td>29.0</td>\n",
       "      <td>-0.875315</td>\n",
       "      <td>-0.090800</td>\n",
       "      <td>42.0</td>\n",
       "      <td>14.0</td>\n",
       "    </tr>\n",
       "    <tr>\n",
       "      <th>...</th>\n",
       "      <td>...</td>\n",
       "      <td>...</td>\n",
       "      <td>...</td>\n",
       "      <td>...</td>\n",
       "      <td>...</td>\n",
       "    </tr>\n",
       "    <tr>\n",
       "      <th>5934</th>\n",
       "      <td>11.0</td>\n",
       "      <td>-0.109052</td>\n",
       "      <td>-0.155384</td>\n",
       "      <td>38.0</td>\n",
       "      <td>12.0</td>\n",
       "    </tr>\n",
       "    <tr>\n",
       "      <th>5935</th>\n",
       "      <td>4.0</td>\n",
       "      <td>-0.065761</td>\n",
       "      <td>-0.158760</td>\n",
       "      <td>8.0</td>\n",
       "      <td>6.0</td>\n",
       "    </tr>\n",
       "    <tr>\n",
       "      <th>5936</th>\n",
       "      <td>9.0</td>\n",
       "      <td>-0.801720</td>\n",
       "      <td>-0.152189</td>\n",
       "      <td>17.0</td>\n",
       "      <td>12.0</td>\n",
       "    </tr>\n",
       "    <tr>\n",
       "      <th>5937</th>\n",
       "      <td>14.0</td>\n",
       "      <td>2.791491</td>\n",
       "      <td>1.143622</td>\n",
       "      <td>0.0</td>\n",
       "      <td>14.0</td>\n",
       "    </tr>\n",
       "    <tr>\n",
       "      <th>5938</th>\n",
       "      <td>14.0</td>\n",
       "      <td>3.354283</td>\n",
       "      <td>3.266003</td>\n",
       "      <td>2.0</td>\n",
       "      <td>16.0</td>\n",
       "    </tr>\n",
       "  </tbody>\n",
       "</table>\n",
       "<p>5939 rows × 5 columns</p>\n",
       "</div>"
      ],
      "text/plain": [
       "      Category      Size   Reviews  Primary Genre  Installs\n",
       "0          6.0  0.453740 -0.157740           13.0      10.0\n",
       "1         11.0 -0.728124 -0.080897           17.0      14.0\n",
       "2          8.0 -0.022469 -0.154967           15.0      12.0\n",
       "3         26.0 -0.455386 -0.139815           37.0      12.0\n",
       "4         29.0 -0.875315 -0.090800           42.0      14.0\n",
       "...        ...       ...       ...            ...       ...\n",
       "5934      11.0 -0.109052 -0.155384           38.0      12.0\n",
       "5935       4.0 -0.065761 -0.158760            8.0       6.0\n",
       "5936       9.0 -0.801720 -0.152189           17.0      12.0\n",
       "5937      14.0  2.791491  1.143622            0.0      14.0\n",
       "5938      14.0  3.354283  3.266003            2.0      16.0\n",
       "\n",
       "[5939 rows x 5 columns]"
      ]
     },
     "execution_count": 30,
     "metadata": {},
     "output_type": "execute_result"
    }
   ],
   "source": [
    "Feature_selection.Subset()"
   ]
  },
  {
   "attachments": {},
   "cell_type": "markdown",
   "metadata": {},
   "source": [
    "So, Boruta-SHAP algorithm suggests that the most important features are `Category`, `Size`, `Installs`, `Reviews`, `Primary Genre`. We will train another model using these features."
   ]
  },
  {
   "cell_type": "code",
   "execution_count": 31,
   "metadata": {},
   "outputs": [],
   "source": [
    "# Subset the training and testing datasets\n",
    "X_train_subset = X_train[Feature_selection.Subset().columns]\n",
    "X_test_subset = X_test[Feature_selection.Subset().columns]"
   ]
  },
  {
   "attachments": {},
   "cell_type": "markdown",
   "metadata": {},
   "source": [
    "### Training model"
   ]
  },
  {
   "cell_type": "code",
   "execution_count": 32,
   "metadata": {},
   "outputs": [
    {
     "name": "stdout",
     "output_type": "stream",
     "text": [
      "Fitting 5 folds for each of 75 candidates, totalling 375 fits\n",
      "Optimal hyperparameters for XGBoost model:  {'learning_rate': 0.1, 'max_depth': 2, 'n_estimators': 300}\n"
     ]
    }
   ],
   "source": [
    "# Regression using XGBoost\n",
    "\n",
    "# Define XGBoost model\n",
    "xgb_model_subset = xgb.XGBRegressor(eval_metric='rmse')\n",
    "\n",
    "# Cross-validation grid search for hyperparameter tuning for XGBoost model, \n",
    "# i.e. trying out different combinations of hyperparameters to find the best combination\n",
    "\n",
    "# Define grid search parameters\n",
    "param_grid = {\n",
    "    'max_depth': [2, 3, 4, 5, 6],\n",
    "    'learning_rate': [0.05, 0.1, 0.15],\n",
    "    'n_estimators': [100, 200, 300, 400, 500]\n",
    "}\n",
    "\n",
    "# Perform grid search\n",
    "grid_search_subset = GridSearchCV(estimator=xgb_model_subset, param_grid=param_grid, cv=5, n_jobs=-1, verbose=1).fit(X_train_subset, y_train)\n",
    "\n",
    "print(\"Optimal hyperparameters for XGBoost model: \", grid_search_subset.best_params_)"
   ]
  },
  {
   "cell_type": "code",
   "execution_count": 33,
   "metadata": {},
   "outputs": [],
   "source": [
    "# Build XGBoost model using optimal hyperparameters\n",
    "xgb_model_subset = xgb.XGBRegressor(   max_depth=grid_search_subset.best_params_['max_depth'],\n",
    "                                learning_rate=grid_search_subset.best_params_['learning_rate'],\n",
    "                                n_estimators=grid_search_subset.best_params_['n_estimators'],\n",
    "                                eval_metric='rmse').fit(X_train_subset, y_train)"
   ]
  },
  {
   "cell_type": "markdown",
   "metadata": {},
   "source": [
    "### Model evaluation"
   ]
  },
  {
   "cell_type": "code",
   "execution_count": 34,
   "metadata": {},
   "outputs": [
    {
     "name": "stdout",
     "output_type": "stream",
     "text": [
      "Mean Squared Error:  2.3110729193499675\n",
      "Mean Absolute Error:  1.2061752249656703\n"
     ]
    }
   ],
   "source": [
    "# Predict on test set\n",
    "\n",
    "xgb_subset_pred = xgb_model_subset.predict(X_test_subset)\n",
    "mse = mean_squared_error(y_test, xgb_subset_pred)\n",
    "mae = mean_absolute_error(y_test, xgb_subset_pred)\n",
    "print(\"Mean Squared Error: \", mse)\n",
    "print(\"Mean Absolute Error: \", mae)"
   ]
  },
  {
   "attachments": {},
   "cell_type": "markdown",
   "metadata": {},
   "source": [
    "**Remarks:** There is no significant improvement in the mean squared error and mean absolute error after feature selection. We think that by providing the model with insufficient features, the model does not capture the complex hidden relationships at play between less important, but still impactful, variables. After all, we are cutting the number of features to only 5, which means a lot of good hidden indicators of rating will also be discarded.\n",
    "\n",
    "This model is therefore not recommended for predicting ratings of Google Play Store apps."
   ]
  },
  {
   "cell_type": "code",
   "execution_count": null,
   "metadata": {},
   "outputs": [],
   "source": []
  }
 ],
 "metadata": {
  "kernelspec": {
   "display_name": "SC1015",
   "language": "python",
   "name": "python3"
  },
  "language_info": {
   "codemirror_mode": {
    "name": "ipython",
    "version": 3
   },
   "file_extension": ".py",
   "mimetype": "text/x-python",
   "name": "python",
   "nbconvert_exporter": "python",
   "pygments_lexer": "ipython3",
   "version": "3.9.6"
  },
  "orig_nbformat": 4
 },
 "nbformat": 4,
 "nbformat_minor": 2
}
